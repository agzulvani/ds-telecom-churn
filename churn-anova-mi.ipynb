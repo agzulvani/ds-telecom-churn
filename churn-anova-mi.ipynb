{
 "cells": [
  {
   "cell_type": "code",
   "execution_count": 234,
   "metadata": {},
   "outputs": [],
   "source": [
    "# KELOMPOK 5\n",
    "# AGUS ZULVANI    : 23/528776/PPA/06687\n",
    "# ALIFIA INTAN AN : 23/530614/PPA/06740\n",
    "\n",
    "import pandas as pd\n",
    "import matplotlib.pyplot as plt\n",
    "from sklearn.feature_selection import SelectKBest\n",
    "from sklearn.feature_selection import f_classif\n",
    "from sklearn.preprocessing import OneHotEncoder\n",
    "from sklearn.utils import Bunch\n",
    "from sklearn.preprocessing import StandardScaler\n",
    "from sklearn.metrics import accuracy_score, classification_report\n",
    "from sklearn.model_selection import train_test_split\n",
    "from sklearn.naive_bayes import GaussianNB, CategoricalNB\n",
    "from sklearn.ensemble import RandomForestClassifier\n",
    "from sklearn.neural_network import MLPClassifier"
   ]
  },
  {
   "cell_type": "code",
   "execution_count": 235,
   "metadata": {},
   "outputs": [
    {
     "name": "stdout",
     "output_type": "stream",
     "text": [
      "Original Data:  (7043, 35)\n"
     ]
    },
    {
     "data": {
      "text/html": [
       "<div>\n",
       "<style scoped>\n",
       "    .dataframe tbody tr th:only-of-type {\n",
       "        vertical-align: middle;\n",
       "    }\n",
       "\n",
       "    .dataframe tbody tr th {\n",
       "        vertical-align: top;\n",
       "    }\n",
       "\n",
       "    .dataframe thead th {\n",
       "        text-align: right;\n",
       "    }\n",
       "</style>\n",
       "<table border=\"1\" class=\"dataframe\">\n",
       "  <thead>\n",
       "    <tr style=\"text-align: right;\">\n",
       "      <th></th>\n",
       "      <th>Gender</th>\n",
       "      <th>Age</th>\n",
       "      <th>Married</th>\n",
       "      <th>Number of Dependents</th>\n",
       "      <th>City</th>\n",
       "      <th>Zip Code</th>\n",
       "      <th>Latitude</th>\n",
       "      <th>Longitude</th>\n",
       "      <th>Number of Referrals</th>\n",
       "      <th>Tenure in Months</th>\n",
       "      <th>Offer</th>\n",
       "      <th>Phone Service</th>\n",
       "      <th>Avg Monthly Long Distance Charges</th>\n",
       "      <th>Multiple Lines</th>\n",
       "      <th>Internet Service</th>\n",
       "      <th>Internet Type</th>\n",
       "      <th>Avg Monthly GB Download</th>\n",
       "      <th>Online Security</th>\n",
       "      <th>Online Backup</th>\n",
       "      <th>Device Protection Plan</th>\n",
       "      <th>Premium Tech Support</th>\n",
       "      <th>Streaming TV</th>\n",
       "      <th>Streaming Movies</th>\n",
       "      <th>Streaming Music</th>\n",
       "      <th>Unlimited Data</th>\n",
       "      <th>Contract</th>\n",
       "      <th>Paperless Billing</th>\n",
       "      <th>Payment Method</th>\n",
       "      <th>Monthly Charge</th>\n",
       "      <th>Total Charges</th>\n",
       "      <th>Total Refunds</th>\n",
       "      <th>Total Extra Data Charges</th>\n",
       "      <th>Total Long Distance Charges</th>\n",
       "      <th>Total Revenue</th>\n",
       "      <th>Customer Status</th>\n",
       "    </tr>\n",
       "  </thead>\n",
       "  <tbody>\n",
       "    <tr>\n",
       "      <th>0</th>\n",
       "      <td>Female</td>\n",
       "      <td>37</td>\n",
       "      <td>Yes</td>\n",
       "      <td>0</td>\n",
       "      <td>Frazier Park</td>\n",
       "      <td>93225</td>\n",
       "      <td>34.827662</td>\n",
       "      <td>-118.999073</td>\n",
       "      <td>2</td>\n",
       "      <td>9</td>\n",
       "      <td>NaN</td>\n",
       "      <td>Yes</td>\n",
       "      <td>42.39</td>\n",
       "      <td>No</td>\n",
       "      <td>Yes</td>\n",
       "      <td>Cable</td>\n",
       "      <td>16.0</td>\n",
       "      <td>No</td>\n",
       "      <td>Yes</td>\n",
       "      <td>No</td>\n",
       "      <td>Yes</td>\n",
       "      <td>Yes</td>\n",
       "      <td>No</td>\n",
       "      <td>No</td>\n",
       "      <td>Yes</td>\n",
       "      <td>One Year</td>\n",
       "      <td>Yes</td>\n",
       "      <td>Credit Card</td>\n",
       "      <td>65.6</td>\n",
       "      <td>593.3</td>\n",
       "      <td>0.00</td>\n",
       "      <td>0</td>\n",
       "      <td>381.51</td>\n",
       "      <td>974.81</td>\n",
       "      <td>Stayed</td>\n",
       "    </tr>\n",
       "    <tr>\n",
       "      <th>1</th>\n",
       "      <td>Male</td>\n",
       "      <td>46</td>\n",
       "      <td>No</td>\n",
       "      <td>0</td>\n",
       "      <td>Glendale</td>\n",
       "      <td>91206</td>\n",
       "      <td>34.162515</td>\n",
       "      <td>-118.203869</td>\n",
       "      <td>0</td>\n",
       "      <td>9</td>\n",
       "      <td>NaN</td>\n",
       "      <td>Yes</td>\n",
       "      <td>10.69</td>\n",
       "      <td>Yes</td>\n",
       "      <td>Yes</td>\n",
       "      <td>Cable</td>\n",
       "      <td>10.0</td>\n",
       "      <td>No</td>\n",
       "      <td>No</td>\n",
       "      <td>No</td>\n",
       "      <td>No</td>\n",
       "      <td>No</td>\n",
       "      <td>Yes</td>\n",
       "      <td>Yes</td>\n",
       "      <td>No</td>\n",
       "      <td>Month-to-Month</td>\n",
       "      <td>No</td>\n",
       "      <td>Credit Card</td>\n",
       "      <td>-4.0</td>\n",
       "      <td>542.4</td>\n",
       "      <td>38.33</td>\n",
       "      <td>10</td>\n",
       "      <td>96.21</td>\n",
       "      <td>610.28</td>\n",
       "      <td>Stayed</td>\n",
       "    </tr>\n",
       "  </tbody>\n",
       "</table>\n",
       "</div>"
      ],
      "text/plain": [
       "   Gender  Age Married  Number of Dependents          City  Zip Code  \\\n",
       "0  Female   37     Yes                     0  Frazier Park     93225   \n",
       "1    Male   46      No                     0      Glendale     91206   \n",
       "\n",
       "    Latitude   Longitude  Number of Referrals  Tenure in Months Offer  \\\n",
       "0  34.827662 -118.999073                    2                 9   NaN   \n",
       "1  34.162515 -118.203869                    0                 9   NaN   \n",
       "\n",
       "  Phone Service  Avg Monthly Long Distance Charges Multiple Lines  \\\n",
       "0           Yes                              42.39             No   \n",
       "1           Yes                              10.69            Yes   \n",
       "\n",
       "  Internet Service Internet Type  Avg Monthly GB Download Online Security  \\\n",
       "0              Yes         Cable                     16.0              No   \n",
       "1              Yes         Cable                     10.0              No   \n",
       "\n",
       "  Online Backup Device Protection Plan Premium Tech Support Streaming TV  \\\n",
       "0           Yes                     No                  Yes          Yes   \n",
       "1            No                     No                   No           No   \n",
       "\n",
       "  Streaming Movies Streaming Music Unlimited Data        Contract  \\\n",
       "0               No              No            Yes        One Year   \n",
       "1              Yes             Yes             No  Month-to-Month   \n",
       "\n",
       "  Paperless Billing Payment Method  Monthly Charge  Total Charges  \\\n",
       "0               Yes    Credit Card            65.6          593.3   \n",
       "1                No    Credit Card            -4.0          542.4   \n",
       "\n",
       "   Total Refunds  Total Extra Data Charges  Total Long Distance Charges  \\\n",
       "0           0.00                         0                       381.51   \n",
       "1          38.33                        10                        96.21   \n",
       "\n",
       "   Total Revenue Customer Status  \n",
       "0         974.81          Stayed  \n",
       "1         610.28          Stayed  "
      ]
     },
     "execution_count": 235,
     "metadata": {},
     "output_type": "execute_result"
    }
   ],
   "source": [
    "# DATA SOURCE\n",
    "file_path = \"/Users/aguszulvani/Downloads/churn/telecom_customer_churn.csv\"\n",
    "df_orig = pd.read_csv(file_path, sep = ',')\n",
    "\n",
    "df = df_orig\n",
    "\n",
    "# DATA PREPARATION\n",
    "## DROP UNUSED FEATURES (Customer ID is no longer used, it is not affected dependence variable)\n",
    "df.drop(columns=['Customer ID', 'Churn Reason', 'Churn Category'], inplace=True)\n",
    "\n",
    "print(\"Original Data: \", df_orig.shape)\n",
    "# print(df.dtypes)\n",
    "df.head(2)"
   ]
  },
  {
   "cell_type": "code",
   "execution_count": 236,
   "metadata": {},
   "outputs": [
    {
     "name": "stdout",
     "output_type": "stream",
     "text": [
      "Data (Categorical to Numerical Conversion):  (7043, 2777)\n",
      "Data (Without Categorical Numerical Conversion):  (7043, 35)\n"
     ]
    }
   ],
   "source": [
    "## CONVERT CATEGORICAL TO NUMERICAL FEATURES\n",
    "# mapping_churn_status = {'Churned': 1, 'Stayed': 2, 'Joined': 3}\n",
    "# df['Customer Status'] = df['Gender'].map(mapping_churn_status).fillna(0).astype(int)\n",
    "\n",
    "mapping_gender = {'Male': 1, 'Female': 2}\n",
    "df['Gender'] = df['Gender'].map(mapping_gender).fillna(0).astype(int)\n",
    "\n",
    "mapping_yes_no = {'Yes': 1, 'No': 2}\n",
    "df['Married'] = df['Married'].map(mapping_yes_no).fillna(0).astype(int)\n",
    "df['Phone Service'] = df['Phone Service'].map(mapping_yes_no).fillna(0).astype(int)\n",
    "df['Multiple Lines'] = df['Multiple Lines'].map(mapping_yes_no).fillna(0).astype(int)\n",
    "df['Internet Service'] = df['Internet Service'].map(mapping_yes_no).fillna(0).astype(int)\n",
    "df['Online Backup'] = df['Online Backup'].map(mapping_yes_no).fillna(0).astype(int)\n",
    "df['Online Security'] = df['Online Security'].map(mapping_yes_no).fillna(0).astype(int)\n",
    "df['Device Protection Plan'] = df['Device Protection Plan'].map(mapping_yes_no).fillna(0).astype(int)\n",
    "df['Premium Tech Support'] = df['Premium Tech Support'].map(mapping_yes_no).fillna(0).astype(int)\n",
    "df['Streaming TV'] = df['Streaming TV'].map(mapping_yes_no).fillna(0).astype(int)\n",
    "df['Streaming Movies'] = df['Streaming Movies'].map(mapping_yes_no).fillna(0).astype(int)\n",
    "df['Streaming Music'] = df['Streaming Music'].map(mapping_yes_no).fillna(0).astype(int)\n",
    "df['Unlimited Data'] = df['Unlimited Data'].map(mapping_yes_no).fillna(0).astype(int)\n",
    "df['Paperless Billing'] = df['Paperless Billing'].map(mapping_yes_no).fillna(0).astype(int)\n",
    "\n",
    "df = df.fillna(0)\n",
    "categorical_columns = ['City', 'Zip Code', 'Offer', 'Internet Type', 'Contract', 'Payment Method'] \n",
    "df_encoded = pd.get_dummies(df, columns=categorical_columns)\n",
    "\n",
    "print(\"Data (Categorical to Numerical Conversion): \", df_encoded.shape)\n",
    "print(\"Data (Without Categorical Numerical Conversion): \", df.shape)\n",
    "# df.head(2)\n",
    "\n",
    "# has_negative = (df_encoded < 0).any().any()\n",
    "# print(\"Apakah ada nilai negatif di DataFrame?\", has_negative)"
   ]
  },
  {
   "cell_type": "code",
   "execution_count": 237,
   "metadata": {},
   "outputs": [],
   "source": [
    "# DATA INDEPENDENT VS DEPENDENT SPLITING\n",
    "## DEPENDENT FEATURE\n",
    "target_column = 'Customer Status'\n",
    "\n",
    "## SEPARATE DEPDENDENT VS INDEPENDENT FEATURES\n",
    "X = df_encoded.drop(target_column, axis=1)\n",
    "y = df_encoded[target_column]"
   ]
  },
  {
   "cell_type": "code",
   "execution_count": 273,
   "metadata": {},
   "outputs": [
    {
     "name": "stdout",
     "output_type": "stream",
     "text": [
      "Data After Feature Selection:  (7043, 2777) (7043, 201)\n"
     ]
    }
   ],
   "source": [
    "# FEATURE SELECTION ANOVA\n",
    "## Data normalization\n",
    "anova_n = 200\n",
    "scaler = StandardScaler()\n",
    "X_scaled = scaler.fit_transform(X)\n",
    "\n",
    "## Calculate F value and P value (ANOVA)\n",
    "f_values, p_values = f_classif(X_scaled, y)\n",
    "\n",
    "feature_names = X.columns\n",
    "anova_results = pd.DataFrame({'Feature': feature_names, 'F-Value': f_values, 'P-Value': p_values})\n",
    "anova_results = anova_results.sort_values(by='F-Value', ascending=False)\n",
    "# print(\"ANOVA F Score vs P Value\")\n",
    "# print(\"----------------------------------------\")\n",
    "# print(anova_results)\n",
    "\n",
    "# Membuat objek SelectKBest dengan ANOVA sebagai fungsi skor\n",
    "k_best = SelectKBest(score_func=f_classif, k=anova_n)  \n",
    "\n",
    "# Melakukan seleksi fitur pada dataset\n",
    "X_selected = k_best.fit_transform(X, y)\n",
    "\n",
    "# Mendapatkan fitur-fitur terpilih\n",
    "selected_features = k_best.get_support(indices=True)\n",
    "\n",
    "# Mendapatkan nama fitur dan nama kelas\n",
    "feature_names = list(X.columns)\n",
    "target_names = y.unique()\n",
    "\n",
    "selected_features_ = []\n",
    "for i in selected_features:\n",
    "    selected_features_.append(feature_names[i])\n",
    "\n",
    "# drop unselected columns\n",
    "selected_features_.append(target_column)\n",
    "columns_to_drop = [col for col in df_encoded.columns if col not in selected_features_]\n",
    "df_selected = df_encoded.drop(columns=columns_to_drop)\n",
    "print(\"Data After Feature Selection: \", df_encoded.shape, df_selected.shape)\n",
    "\n",
    "# Membuat objek Bunch\n",
    "# bunch = Bunch(data=X.values, target=y.values, feature_names=feature_names, target_names=target_names)"
   ]
  },
  {
   "cell_type": "code",
   "execution_count": 275,
   "metadata": {},
   "outputs": [],
   "source": [
    "# print(\"\\n\")\n",
    "# print(\"ANOVA Selected Features\")\n",
    "# print(\"----------------------------------------\")\n",
    "# for i in selected_features:\n",
    "#     print(f\"Fitur {i}: {bunch.feature_names[i]} : F-value = {f_values[i]}\")\n",
    "\n",
    "# print(\"\\n\")\n",
    "# print(\"ANOVA Selected Features\")\n",
    "# print(\"----------------------------------------\")\n",
    "# for i in selected_features:\n",
    "#     print(feature_names[i])\n",
    "\n",
    "# print(\"selected features: \")\n",
    "# print(selected_features_)\n",
    "\n",
    "# columns_to_drop = ['Internet Type_0', 'Offer_Offer E']\n",
    "# print(\"\\ndrop columns: \")\n",
    "# print(columns_to_drop)\n",
    "\n",
    "# print(\"\\nColumn Diff: \",len(selected_features), (len(columns_to_drop) - len(selected_features)))\n",
    "# print(\"\\nData Original: \", df.shape)\n",
    "# print(\"Data Encoded: \", df_encoded.shape)\n",
    "\n",
    "# print(df_selected.columns)\n",
    "# df_selected.head(2)"
   ]
  },
  {
   "cell_type": "code",
   "execution_count": 274,
   "metadata": {},
   "outputs": [],
   "source": [
    "# AFTER FEATURE SELECTION\n",
    "# DATA INDEPENDENT VS DEPENDENT SPLITING\n",
    "## DEPENDENT FEATURE\n",
    "\n",
    "## SEPARATE DEPDENDENT VS INDEPENDENT FEATURES\n",
    "X_anova = df_selected.drop(target_column, axis=1)\n",
    "y_anova = df_selected[target_column]\n",
    "\n",
    "# DATA TRAIN VS TEST SPLITTING\n",
    "## ORIGINAL\n",
    "X_train, X_test, y_train, y_test = train_test_split(X, y, test_size=0.25, random_state=42)\n",
    "\n",
    "## ANOVA\n",
    "X_train_anova, X_test_anova, y_train_anova, y_test_anova = train_test_split(X_anova, y_anova, test_size=0.25, random_state=42)"
   ]
  },
  {
   "cell_type": "code",
   "execution_count": 276,
   "metadata": {},
   "outputs": [
    {
     "name": "stdout",
     "output_type": "stream",
     "text": [
      "Gaussian Naive Bayes Accuracy: 0.6672345258375922\n",
      "ANOVA:  200  Gaussian Naive Bayes Accuracy: 0.7761476573592049\n"
     ]
    }
   ],
   "source": [
    "# GAUSIAN NAIVE BAYES\n",
    "gnb = GaussianNB()\n",
    "gnb.fit(X_train, y_train)\n",
    "y_pred_gnb = gnb.predict(X_test)\n",
    "print(\"Gaussian Naive Bayes Accuracy:\", accuracy_score(y_test, y_pred_gnb))\n",
    "# print(\"Gaussian Naive Bayes Classification Report:\\n\", classification_report(y_test, y_pred_gnb))\n",
    "\n",
    "gnb_anova = GaussianNB()\n",
    "gnb_anova.fit(X_train_anova, y_train_anova)\n",
    "y_pred_gnb_anova = gnb_anova.predict(X_test_anova)\n",
    "print(\"ANOVA: \", anova_n, \" Gaussian Naive Bayes Accuracy:\", accuracy_score(y_test_anova, y_pred_gnb_anova))\n",
    "# print(\"ANOVA Gaussian Naive Bayes Classification Report:\\n\", classification_report(y_test_anova, y_pred_gnb_anova))"
   ]
  },
  {
   "cell_type": "code",
   "execution_count": 277,
   "metadata": {},
   "outputs": [
    {
     "name": "stdout",
     "output_type": "stream",
     "text": [
      "Random Forest Accuracy: 0.8370244179443498\n",
      "ANOVA:  200  Random Forest Accuracy: 0.8428774254614293\n"
     ]
    }
   ],
   "source": [
    "# RANDOM FOREST\n",
    "rf = RandomForestClassifier(n_estimators=100, random_state=42)\n",
    "rf.fit(X_train, y_train)\n",
    "y_pred_rf = rf.predict(X_test)\n",
    "print(\"Random Forest Accuracy:\", accuracy_score(y_test, y_pred_rf))\n",
    "# print(\"Random Forest Classification Report:\\n\", classification_report(y_test, y_pred_rf))\n",
    "\n",
    "rf_anova = RandomForestClassifier(n_estimators=100, random_state=42)\n",
    "rf_anova.fit(X_train_anova, y_train_anova)\n",
    "y_pred_rf_anova = rf_anova.predict(X_test_anova)\n",
    "print(\"ANOVA: \", anova_n, \" Random Forest Accuracy:\", accuracy_score(y_test_anova, y_pred_rf_anova))\n",
    "# print(\"ANOVA Random Forest Classification Report:\\n\", classification_report(y_test_anova, y_pred_rf_anova))"
   ]
  },
  {
   "cell_type": "code",
   "execution_count": 278,
   "metadata": {},
   "outputs": [
    {
     "name": "stdout",
     "output_type": "stream",
     "text": [
      "MLP Accuracy: 0.7910278250993753\n",
      "ANOVA:  200  MLP Accuracy: 0.8258400378608614\n"
     ]
    }
   ],
   "source": [
    "# MLP\n",
    "mlp = MLPClassifier(hidden_layer_sizes=(100,), max_iter=500, random_state=42)\n",
    "mlp.fit(X_train, y_train)\n",
    "y_pred_mlp = mlp.predict(X_test)\n",
    "print(\"MLP Accuracy:\", accuracy_score(y_test, y_pred_mlp))\n",
    "# print(\"MLP Classification Report:\\n\", classification_report(y_test, y_pred_mlp))\n",
    "\n",
    "mlp_anova = MLPClassifier(hidden_layer_sizes=(100,), max_iter=500, random_state=42)\n",
    "mlp_anova.fit(X_train_anova, y_train_anova)\n",
    "y_pred_mlp_anova = mlp_anova.predict(X_test_anova)\n",
    "print(\"ANOVA: \", anova_n, \" MLP Accuracy:\", accuracy_score(y_test_anova, y_pred_mlp_anova))\n",
    "# print(\"ANOVA MLP Classification Report:\\n\", classification_report(y_test_anova, y_pred_mlp_anova))"
   ]
  },
  {
   "cell_type": "code",
   "execution_count": 284,
   "metadata": {},
   "outputs": [
    {
     "name": "stdout",
     "output_type": "stream",
     "text": [
      "Data After Feature Selection:  (7043, 2777) (7043, 201)\n"
     ]
    }
   ],
   "source": [
    "# FEATURE SELECTION MUTAL INFORMATION\n",
    "from sklearn.feature_selection import mutual_info_classif\n",
    "\n",
    "mi_n = 200\n",
    "\n",
    "# Hitung mutual information\n",
    "mi = mutual_info_classif(X, y)\n",
    "\n",
    "# Menampilkan hasil\n",
    "# mi_df = pd.DataFrame({'Feature': X.columns, 'Mutual Information': mi}).sort_values(by='Mutual Information', ascending=False)\n",
    "# mi_df.head(20)\n",
    "\n",
    "k_best_mi = SelectKBest(score_func=mutual_info_classif, k=mi_n)  \n",
    "\n",
    "# Melakukan seleksi fitur pada dataset\n",
    "X_selected_mi = k_best_mi.fit_transform(X, y)\n",
    "\n",
    "# Mendapatkan fitur-fitur terpilih\n",
    "selected_features_mi = k_best_mi.get_support(indices=True)\n",
    "\n",
    "selected_features_mi_ = []\n",
    "for i in selected_features_mi:\n",
    "    selected_features_mi_.append(feature_names[i])\n",
    "\n",
    "# drop unselected columns\n",
    "selected_features_mi_.append(target_column)\n",
    "columns_to_drop_mi = [col for col in df_encoded.columns if col not in selected_features_mi_]\n",
    "df_selected_mi = df_encoded.drop(columns=columns_to_drop_mi)\n",
    "print(\"Data After Feature Selection: \", df_encoded.shape, df_selected_mi.shape)\n"
   ]
  },
  {
   "cell_type": "code",
   "execution_count": 285,
   "metadata": {},
   "outputs": [],
   "source": [
    "# AFTER FEATURE SELECTION\n",
    "# DATA INDEPENDENT VS DEPENDENT SPLITING\n",
    "## DEPENDENT FEATURE\n",
    "\n",
    "## SEPARATE DEPDENDENT VS INDEPENDENT FEATURES\n",
    "X_mi = df_selected_mi.drop(target_column, axis=1)\n",
    "y_mi = df_selected_mi[target_column]\n",
    "\n",
    "## ANOVA\n",
    "X_train_mi, X_test_mi, y_train_mi, y_test_mi = train_test_split(X_mi, y_mi, test_size=0.25, random_state=42)"
   ]
  },
  {
   "cell_type": "code",
   "execution_count": 286,
   "metadata": {},
   "outputs": [
    {
     "name": "stdout",
     "output_type": "stream",
     "text": [
      "Gaussian Naive Bayes Accuracy: 0.6672345258375922\n",
      "ANOVA:  200  Gaussian Naive Bayes Accuracy: 0.7761476573592049\n",
      "MI:  200  Gaussian Naive Bayes Accuracy: 0.7160704145371948\n"
     ]
    }
   ],
   "source": [
    "# GAUSIAN NAIVE BAYES\n",
    "gnb = GaussianNB()\n",
    "gnb.fit(X_train, y_train)\n",
    "y_pred_gnb = gnb.predict(X_test)\n",
    "print(\"Gaussian Naive Bayes Accuracy:\", accuracy_score(y_test, y_pred_gnb))\n",
    "# print(\"Gaussian Naive Bayes Classification Report:\\n\", classification_report(y_test, y_pred_gnb))\n",
    "\n",
    "gnb_anova = GaussianNB()\n",
    "gnb_anova.fit(X_train_anova, y_train_anova)\n",
    "y_pred_gnb_anova = gnb_anova.predict(X_test_anova)\n",
    "print(\"ANOVA: \", anova_n, \" Gaussian Naive Bayes Accuracy:\", accuracy_score(y_test_anova, y_pred_gnb_anova))\n",
    "# print(\"ANOVA Gaussian Naive Bayes Classification Report:\\n\", classification_report(y_test_anova, y_pred_gnb_anova))\n",
    "\n",
    "gnb_mi = GaussianNB()\n",
    "gnb_mi.fit(X_train_mi, y_train_mi)\n",
    "y_pred_gnb_mi = gnb_mi.predict(X_test_mi)\n",
    "print(\"MI: \", mi_n, \" Gaussian Naive Bayes Accuracy:\", accuracy_score(y_test_mi, y_pred_gnb_mi))\n",
    "# print(\"ANOVA Gaussian Naive Bayes Classification Report:\\n\", classification_report(y_test_anova, y_pred_gnb_anova))"
   ]
  },
  {
   "cell_type": "code",
   "execution_count": 287,
   "metadata": {},
   "outputs": [
    {
     "name": "stdout",
     "output_type": "stream",
     "text": [
      "Random Forest Accuracy: 0.8370244179443498\n",
      "ANOVA:  200  Random Forest Accuracy: 0.8428774254614293\n",
      "MI:  200  Random Forest Accuracy: 0.8398637137989778\n"
     ]
    }
   ],
   "source": [
    "# RANDOM FOREST\n",
    "rf = RandomForestClassifier(n_estimators=100, random_state=42)\n",
    "rf.fit(X_train, y_train)\n",
    "y_pred_rf = rf.predict(X_test)\n",
    "print(\"Random Forest Accuracy:\", accuracy_score(y_test, y_pred_rf))\n",
    "# print(\"Random Forest Classification Report:\\n\", classification_report(y_test, y_pred_rf))\n",
    "\n",
    "rf_anova = RandomForestClassifier(n_estimators=100, random_state=42)\n",
    "rf_anova.fit(X_train_anova, y_train_anova)\n",
    "y_pred_rf_anova = rf_anova.predict(X_test_anova)\n",
    "print(\"ANOVA: \", anova_n, \" Random Forest Accuracy:\", accuracy_score(y_test_anova, y_pred_rf_anova))\n",
    "# print(\"ANOVA Random Forest Classification Report:\\n\", classification_report(y_test_anova, y_pred_rf_anova))\n",
    "\n",
    "rf_mi = RandomForestClassifier(n_estimators=100, random_state=42)\n",
    "rf_mi.fit(X_train_mi, y_train_mi)\n",
    "y_pred_rf_mi = rf_mi.predict(X_test_mi)\n",
    "print(\"MI: \", mi_n, \" Random Forest Accuracy:\", accuracy_score(y_test_mi, y_pred_rf_mi))"
   ]
  },
  {
   "cell_type": "code",
   "execution_count": 288,
   "metadata": {},
   "outputs": [
    {
     "name": "stdout",
     "output_type": "stream",
     "text": [
      "MLP Accuracy: 0.7910278250993753\n",
      "ANOVA:  200  MLP Accuracy: 0.8258400378608614\n",
      "MI:  200  MLP Accuracy: 0.5036910846110164\n"
     ]
    }
   ],
   "source": [
    "# MLP\n",
    "mlp = MLPClassifier(hidden_layer_sizes=(100,), max_iter=500, random_state=42)\n",
    "mlp.fit(X_train, y_train)\n",
    "y_pred_mlp = mlp.predict(X_test)\n",
    "print(\"MLP Accuracy:\", accuracy_score(y_test, y_pred_mlp))\n",
    "# print(\"MLP Classification Report:\\n\", classification_report(y_test, y_pred_mlp))\n",
    "\n",
    "mlp_anova = MLPClassifier(hidden_layer_sizes=(100,), max_iter=500, random_state=42)\n",
    "mlp_anova.fit(X_train_anova, y_train_anova)\n",
    "y_pred_mlp_anova = mlp_anova.predict(X_test_anova)\n",
    "print(\"ANOVA: \", anova_n, \" MLP Accuracy:\", accuracy_score(y_test_anova, y_pred_mlp_anova))\n",
    "# print(\"ANOVA MLP Classification Report:\\n\", classification_report(y_test_anova, y_pred_mlp_anova))\n",
    "\n",
    "mlp_mi = MLPClassifier(hidden_layer_sizes=(100,), max_iter=500, random_state=42)\n",
    "mlp_mi.fit(X_train_mi, y_train_mi)\n",
    "y_pred_mlp_mi = mlp_mi.predict(X_test_mi)\n",
    "print(\"MI: \", mi_n, \" MLP Accuracy:\", accuracy_score(y_test_mi, y_pred_mlp_mi))\n"
   ]
  }
 ],
 "metadata": {
  "kernelspec": {
   "display_name": "Python 3",
   "language": "python",
   "name": "python3"
  },
  "language_info": {
   "codemirror_mode": {
    "name": "ipython",
    "version": 3
   },
   "file_extension": ".py",
   "mimetype": "text/x-python",
   "name": "python",
   "nbconvert_exporter": "python",
   "pygments_lexer": "ipython3",
   "version": "3.10.10"
  }
 },
 "nbformat": 4,
 "nbformat_minor": 2
}
